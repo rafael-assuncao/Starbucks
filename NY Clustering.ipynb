{
    "cells": [
        {
            "metadata": {
                "collapsed": true
            },
            "cell_type": "markdown",
            "source": "## Introduction \n\nNY is well known to be the finalcial capital of the World. It has millions of habitants but most importantly more than 200 coffee shops in Manhattan Only (and lots of small coffee joints everywhere).\n\nWith so many people on a vibrant city,isexpected that we have evenly distributed coffee places everywhere on the big apple right? This is what we are going to find out, maybe Starbucks is missing a spot and an opportunity to gain some money.\n\n\n## The Data\n\nTo tackle the above problem, I will need to gather information on all Starbucks shops in the island, specially detailed location information so we can try to categorize this places and see what they have in common. This way we will identify what may be the next Starbucks move."
        },
        {
            "metadata": {},
            "cell_type": "code",
            "source": "",
            "execution_count": null,
            "outputs": []
        }
    ],
    "metadata": {
        "kernelspec": {
            "name": "python3",
            "display_name": "Python 3.6",
            "language": "python"
        },
        "language_info": {
            "name": "python",
            "version": "3.6.9",
            "mimetype": "text/x-python",
            "codemirror_mode": {
                "name": "ipython",
                "version": 3
            },
            "pygments_lexer": "ipython3",
            "nbconvert_exporter": "python",
            "file_extension": ".py"
        }
    },
    "nbformat": 4,
    "nbformat_minor": 1
}